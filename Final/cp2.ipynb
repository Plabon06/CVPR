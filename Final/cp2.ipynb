{
  "nbformat": 4,
  "nbformat_minor": 0,
  "metadata": {
    "colab": {
      "provenance": []
    },
    "kernelspec": {
      "name": "python3",
      "display_name": "Python 3"
    },
    "language_info": {
      "name": "python"
    }
  },
  "cells": [
    {
      "cell_type": "code",
      "execution_count": 1,
      "metadata": {
        "colab": {
          "base_uri": "https://localhost:8080/"
        },
        "id": "rKcjRs3_EB6e",
        "outputId": "12392e8e-b0e2-41a3-cfa8-c80dd297d8b7"
      },
      "outputs": [
        {
          "output_type": "stream",
          "name": "stdout",
          "text": [
            "Downloading data from https://www.cs.toronto.edu/~kriz/cifar-10-python.tar.gz\n",
            "170498071/170498071 [==============================] - 3s 0us/step\n"
          ]
        }
      ],
      "source": [
        "import tensorflow as tf\n",
        "from tensorflow import keras\n",
        "\n",
        "(x_train, y_train), (x_test, y_test) = keras.datasets.cifar10.load_data()\n",
        "\n",
        "x_train = x_train / 255.0\n",
        "x_test = x_test / 255.0\n",
        "\n",
        "num_classes = 10\n",
        "y_train = keras.utils.to_categorical(y_train, num_classes)\n",
        "y_test = keras.utils.to_categorical(y_test, num_classes)"
      ]
    },
    {
      "cell_type": "code",
      "source": [
        "base_model = keras.applications.VGG16(weights='imagenet', include_top=False, input_shape=(32, 32, 3))\n",
        "\n",
        "for layer in base_model.layers:\n",
        "    layer.trainable = False"
      ],
      "metadata": {
        "colab": {
          "base_uri": "https://localhost:8080/"
        },
        "id": "h6jW82RCEJlk",
        "outputId": "bc0f8271-e1f4-4dfc-a135-af45ef49c95e"
      },
      "execution_count": 2,
      "outputs": [
        {
          "output_type": "stream",
          "name": "stdout",
          "text": [
            "Downloading data from https://storage.googleapis.com/tensorflow/keras-applications/vgg16/vgg16_weights_tf_dim_ordering_tf_kernels_notop.h5\n",
            "58889256/58889256 [==============================] - 0s 0us/step\n"
          ]
        }
      ]
    },
    {
      "cell_type": "code",
      "source": [
        "model = keras.Sequential([\n",
        "    base_model,\n",
        "    keras.layers.Flatten(),\n",
        "    keras.layers.Dense(256, activation='relu'),\n",
        "    keras.layers.Dropout(0.5),\n",
        "    keras.layers.Dense(num_classes, activation='softmax')\n",
        "])\n",
        "\n",
        "model.compile(optimizer='adam', loss='categorical_crossentropy', metrics=['accuracy'])\n",
        "\n",
        "history_freeze = model.fit(x_train, y_train, epochs=5, validation_data=(x_test, y_test), batch_size=128)"
      ],
      "metadata": {
        "colab": {
          "base_uri": "https://localhost:8080/"
        },
        "id": "TU9QhQYjEMAy",
        "outputId": "9f03e7fe-a3e2-4bf7-a64c-4be44b2472fb"
      },
      "execution_count": 3,
      "outputs": [
        {
          "output_type": "stream",
          "name": "stdout",
          "text": [
            "Epoch 1/5\n",
            "391/391 [==============================] - 744s 2s/step - loss: 1.5694 - accuracy: 0.4505 - val_loss: 1.3189 - val_accuracy: 0.5368\n",
            "Epoch 2/5\n",
            "391/391 [==============================] - 737s 2s/step - loss: 1.3240 - accuracy: 0.5360 - val_loss: 1.2463 - val_accuracy: 0.5598\n",
            "Epoch 3/5\n",
            "391/391 [==============================] - 735s 2s/step - loss: 1.2596 - accuracy: 0.5586 - val_loss: 1.2057 - val_accuracy: 0.5769\n",
            "Epoch 4/5\n",
            "391/391 [==============================] - 689s 2s/step - loss: 1.2186 - accuracy: 0.5755 - val_loss: 1.1799 - val_accuracy: 0.5854\n",
            "Epoch 5/5\n",
            "391/391 [==============================] - 720s 2s/step - loss: 1.1901 - accuracy: 0.5856 - val_loss: 1.1586 - val_accuracy: 0.5919\n"
          ]
        }
      ]
    },
    {
      "cell_type": "code",
      "source": [
        "for layer in base_model.layers:\n",
        "    layer.trainable = True\n",
        "\n",
        "model.compile(optimizer=keras.optimizers.Adam(1e-5), loss='categorical_crossentropy', metrics=['accuracy'])\n",
        "\n",
        "history_unfreeze = model.fit(x_train, y_train, epochs=5, validation_data=(x_test, y_test), batch_size=128)\n"
      ],
      "metadata": {
        "id": "QaW1Uo-nTlzW"
      },
      "execution_count": null,
      "outputs": []
    },
    {
      "cell_type": "code",
      "source": [
        "import matplotlib.pyplot as plt\n",
        "\n",
        "plt.plot(history_freeze.history['accuracy'])\n",
        "plt.plot(history_freeze.history['val_accuracy'])\n",
        "plt.plot(history_unfreeze.history['accuracy'])\n",
        "plt.plot(history_unfreeze.history['val_accuracy'])\n",
        "plt.title('Model accuracy')\n",
        "plt.ylabel('Accuracy')\n",
        "plt.xlabel('Epoch')\n",
        "plt.legend(['Train (Freeze)', 'Val (Freeze)', 'Train (Unfreeze)', 'Val (Unfreeze)'], loc='lower right')\n",
        "plt.show()"
      ],
      "metadata": {
        "id": "AuUAV5qJEQOK"
      },
      "execution_count": null,
      "outputs": []
    }
  ]
}